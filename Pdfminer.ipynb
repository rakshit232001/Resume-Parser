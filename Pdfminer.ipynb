{
  "nbformat": 4,
  "nbformat_minor": 0,
  "metadata": {
    "colab": {
      "provenance": []
    },
    "kernelspec": {
      "name": "python3",
      "display_name": "Python 3"
    },
    "language_info": {
      "name": "python"
    }
  },
  "cells": [
    {
      "cell_type": "code",
      "source": [
        "!pip install pdfminer.six"
      ],
      "metadata": {
        "colab": {
          "base_uri": "https://localhost:8080/"
        },
        "id": "fuAsmnXeZvkA",
        "outputId": "b3e4dcd8-0839-4478-fb4c-c8fe931f24a1"
      },
      "execution_count": null,
      "outputs": [
        {
          "output_type": "stream",
          "name": "stdout",
          "text": [
            "Collecting pdfminer.six\n",
            "  Downloading pdfminer.six-20240706-py3-none-any.whl (5.6 MB)\n",
            "\u001b[2K     \u001b[90m━━━━━━━━━━━━━━━━━━━━━━━━━━━━━━━━━━━━━━━━\u001b[0m \u001b[32m5.6/5.6 MB\u001b[0m \u001b[31m16.8 MB/s\u001b[0m eta \u001b[36m0:00:00\u001b[0m\n",
            "\u001b[?25hRequirement already satisfied: charset-normalizer>=2.0.0 in /usr/local/lib/python3.10/dist-packages (from pdfminer.six) (3.3.2)\n",
            "Requirement already satisfied: cryptography>=36.0.0 in /usr/local/lib/python3.10/dist-packages (from pdfminer.six) (42.0.8)\n",
            "Requirement already satisfied: cffi>=1.12 in /usr/local/lib/python3.10/dist-packages (from cryptography>=36.0.0->pdfminer.six) (1.16.0)\n",
            "Requirement already satisfied: pycparser in /usr/local/lib/python3.10/dist-packages (from cffi>=1.12->cryptography>=36.0.0->pdfminer.six) (2.22)\n",
            "Installing collected packages: pdfminer.six\n",
            "Successfully installed pdfminer.six-20240706\n"
          ]
        }
      ]
    },
    {
      "cell_type": "code",
      "source": [
        "import re\n",
        "from pdfminer.high_level import extract_text\n",
        "import spacy\n",
        "from spacy.matcher import Matcher"
      ],
      "metadata": {
        "id": "xlgUGhXFZeCU"
      },
      "execution_count": null,
      "outputs": []
    },
    {
      "cell_type": "code",
      "execution_count": null,
      "metadata": {
        "id": "TS2W03A3_IX0",
        "colab": {
          "base_uri": "https://localhost:8080/"
        },
        "outputId": "81790404-126d-4324-cb3e-d9d744eb611d"
      },
      "outputs": [
        {
          "output_type": "stream",
          "name": "stdout",
          "text": [
            "Resume: /content/indhu-resume.pdf\n",
            "Name: N\n",
            "Contact Number: 86800 22184\n",
            "Email: indhujan17@gmail.com\n",
            "Skills: ['Java', 'SQL']\n",
            "No education information found\n",
            "\n"
          ]
        }
      ],
      "source": [
        "def extract_text_from_pdf(pdf_path):\n",
        "    return extract_text(pdf_path)\n",
        "\n",
        "def extract_contact_number_from_resume(text):\n",
        "    contact_number = None\n",
        "\n",
        "    # Use regex pattern to find a potential contact number\n",
        "    pattern = r\"\"\"\n",
        "        \\b(?:                                   # word boundary\n",
        "            (?:\\+?\\d{1,3}[-.\\s]?)?              # optional international prefix\n",
        "            (?:\\(?\\d{3}\\)?)?                     # optional area code\n",
        "            [-.\\s]?\\d{3}                         # exchange code\n",
        "            [-.\\s]?\\d{4}                         # line number\n",
        "            |                                    # or\n",
        "            \\d{3}[-.\\s]?\\d{3}[-.\\s]?\\d{4}       # 10-digit number without area code\n",
        "            |                                    # or\n",
        "            \\d{5}[-.\\s]?\\d{5}                    # 10-digit number with extension\n",
        "            |                                    # or\n",
        "            \\d{10}                                # 10-digit number without extension\n",
        "        )\\b\n",
        "    \"\"\"\n",
        "    match = re.search(pattern, text, re.VERBOSE)\n",
        "    if match:\n",
        "        contact_number = match.group()\n",
        "\n",
        "    return contact_number\n",
        "\n",
        "def extract_email_from_resume(text):\n",
        "    email = None\n",
        "\n",
        "    # Use regex pattern to find a potential email address\n",
        "    pattern = r\"\\b[A-Za-z0-9._%+-]+@[A-Za-z0-9.-]+\\.[A-Za-z]{2,}\\b\"\n",
        "    match = re.search(pattern, text)\n",
        "    if match:\n",
        "        email = match.group()\n",
        "\n",
        "    return email\n",
        "\n",
        "def extract_skills_from_resume(text, skills_list):\n",
        "    skills = []\n",
        "\n",
        "    for skill in skills_list:\n",
        "        pattern = r\"\\b{}\\b\".format(re.escape(skill))\n",
        "        match = re.search(pattern, text, re.IGNORECASE)\n",
        "        if match:\n",
        "            skills.append(skill)\n",
        "\n",
        "    return skills\n",
        "\n",
        "def extract_education_from_resume(text):\n",
        "    education = []\n",
        "\n",
        "    # Use regex pattern to find education information\n",
        "    pattern = r\"(?i)(?:Bsc|\\bB\\.\\w+|\\bM\\.\\w+|\\bPh\\.D\\.\\w+|\\bBachelor(?:'s)?|\\bMaster(?:'s)?|\\bPh\\.D)\\s(?:\\w+\\s)*\\w+\"\n",
        "    matches = re.findall(pattern, text)\n",
        "    for match in matches:\n",
        "        education.append(match.strip())\n",
        "\n",
        "    return education\n",
        "\n",
        "def extract_name(resume_text):\n",
        "    nlp = spacy.load('en_core_web_sm')\n",
        "    matcher = Matcher(nlp.vocab)\n",
        "\n",
        "    # Define name patterns\n",
        "    patterns = [\n",
        "        [{'POS': 'PROPN'}, {'POS': 'PROPN'}],  # First name and Last name\n",
        "        [{'POS': 'PROPN'}, {'POS': 'PROPN'}, {'POS': 'PROPN'}],  # First name, Middle name, and Last name\n",
        "        [{'POS': 'PROPN'}, {'POS': 'PROPN'}, {'POS': 'PROPN'}, {'POS': 'PROPN'}],  # First name, Middle name, Middle name, and Last name\n",
        "        [{'POS': 'PROPN'}],  # Single name\n",
        "        [{'POS': 'PROPN'}, {'POS': 'PUNCT'}, {'POS': 'PROPN'}],  # Hyphenated names or names with apostrophes\n",
        "        [{'POS': 'PROPN'}, {'POS': 'PROPN'}, {'POS': 'PUNCT'}, {'POS': 'PROPN'}],  # Hyphenated middle names or names with apostrophes\n",
        "        [{'POS': 'PROPN'}, {'POS': 'PROPN'}, {'POS': 'PROPN'}, {'POS': 'PUNCT'}, {'POS': 'PROPN'}],  # Hyphenated middle names with apostrophes\n",
        "        [{'POS': 'PROPN'}, {'POS': 'PROPN'}, {'POS': 'PUNCT'}, {'POS': 'PROPN'}, {'POS': 'PROPN'}],  # First name, Hyphenated middle name, and Last name\n",
        "        [{'POS': 'PROPN'}, {'POS': 'PROPN'}, {'POS': 'PROPN'}, {'IS_ALPHA': True, 'LENGTH': 1}],  # Names with initials\n",
        "        [{'POS': 'PROPN'}, {'POS': 'PROPN'}, {'IS_ALPHA': True, 'LENGTH': 1}],  # First name, Last name, and Initial\n",
        "        # Add more patterns as needed\n",
        "    ]\n",
        "\n",
        "    for pattern in patterns:\n",
        "        matcher.add('NAME', patterns=[pattern])\n",
        "\n",
        "    doc = nlp(resume_text)\n",
        "    matches = matcher(doc)\n",
        "\n",
        "    for match_id, start, end in matches:\n",
        "        span = doc[start:end]\n",
        "        return span.text\n",
        "\n",
        "    return None\n",
        "\n",
        "if __name__ == '__main__':\n",
        "    resume_paths = [r\"/content/indhu-resume.pdf\"]\n",
        "\n",
        "    for resume_path in resume_paths:\n",
        "        text = extract_text_from_pdf(resume_path)\n",
        "\n",
        "        print(\"Resume:\", resume_path)\n",
        "\n",
        "        name = extract_name(text)\n",
        "        if name:\n",
        "            print(\"Name:\", name)\n",
        "        else:\n",
        "            print(\"Name not found\")\n",
        "\n",
        "        contact_number = extract_contact_number_from_resume(text)\n",
        "        if contact_number:\n",
        "            print(\"Contact Number:\", contact_number)\n",
        "        else:\n",
        "            print(\"Contact Number not found\")\n",
        "\n",
        "        email = extract_email_from_resume(text)\n",
        "        if email:\n",
        "            print(\"Email:\", email)\n",
        "        else:\n",
        "            print(\"Email not found\")\n",
        "\n",
        "        skills_list = ['Python', 'Data Analysis','Java', 'Machine Learning', 'Communication', 'Project Management', 'Deep Learning', 'SQL', 'Tableau']\n",
        "        extracted_skills = extract_skills_from_resume(text, skills_list)\n",
        "        if extracted_skills:\n",
        "            print(\"Skills:\", extracted_skills)\n",
        "        else:\n",
        "            print(\"No skills found\")\n",
        "\n",
        "        extracted_education = extract_education_from_resume(text)\n",
        "        if extracted_education:\n",
        "            print(\"Education:\", extracted_education)\n",
        "        else:\n",
        "            print(\"No education information found\")\n",
        "\n",
        "        print()"
      ]
    },
    {
      "cell_type": "code",
      "source": [],
      "metadata": {
        "id": "6G4CbkLqZ_jZ"
      },
      "execution_count": null,
      "outputs": []
    }
  ]
}